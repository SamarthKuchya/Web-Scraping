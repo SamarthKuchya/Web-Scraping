{
 "cells": [
  {
   "cell_type": "code",
   "execution_count": 2,
   "id": "110383b2",
   "metadata": {},
   "outputs": [],
   "source": [
    "# !pip install scrappy"
   ]
  },
  {
   "cell_type": "code",
   "execution_count": 4,
   "id": "c19ea362",
   "metadata": {},
   "outputs": [
    {
     "name": "stdout",
     "output_type": "stream",
     "text": [
      "New Scrapy project 'scrapwithscrapy', using template directory 'D:\\anaconda\\Lib\\site-packages\\scrapy\\templates\\project', created in:\n",
      "    D:\\Skills\\Web Scrapping\\scrapwithscrapy\n",
      "\n",
      "You can start your first spider with:\n",
      "    cd scrapwithscrapy\n",
      "    scrapy genspider example example.com\n"
     ]
    }
   ],
   "source": [
    "# !scrapy startproject scrapwithscrapy"
   ]
  },
  {
   "cell_type": "code",
   "execution_count": null,
   "id": "7af3e18a",
   "metadata": {},
   "outputs": [],
   "source": []
  }
 ],
 "metadata": {
  "kernelspec": {
   "display_name": "Python 3 (ipykernel)",
   "language": "python",
   "name": "python3"
  },
  "language_info": {
   "codemirror_mode": {
    "name": "ipython",
    "version": 3
   },
   "file_extension": ".py",
   "mimetype": "text/x-python",
   "name": "python",
   "nbconvert_exporter": "python",
   "pygments_lexer": "ipython3",
   "version": "3.11.5"
  }
 },
 "nbformat": 4,
 "nbformat_minor": 5
}
