{
 "cells": [
  {
   "cell_type": "code",
   "execution_count": 1,
   "id": "08809975",
   "metadata": {},
   "outputs": [],
   "source": [
    "import bs4\n",
    "import requests\n",
    "from urllib.request import urlopen"
   ]
  },
  {
   "cell_type": "code",
   "execution_count": 2,
   "id": "4c62abc3",
   "metadata": {},
   "outputs": [],
   "source": [
    "url='https://api.chucknorris.io/jokes/random'"
   ]
  },
  {
   "cell_type": "code",
   "execution_count": 3,
   "id": "c6984e60",
   "metadata": {},
   "outputs": [],
   "source": [
    "data=requests.get(url)"
   ]
  },
  {
   "cell_type": "code",
   "execution_count": 4,
   "id": "1984b5c0",
   "metadata": {},
   "outputs": [
    {
     "data": {
      "text/plain": [
       "<Response [200]>"
      ]
     },
     "execution_count": 4,
     "metadata": {},
     "output_type": "execute_result"
    }
   ],
   "source": [
    "data"
   ]
  },
  {
   "cell_type": "code",
   "execution_count": 5,
   "id": "5c4b959d",
   "metadata": {},
   "outputs": [
    {
     "data": {
      "text/plain": [
       "b'{\"categories\":[],\"created_at\":\"2020-01-05 13:42:21.455187\",\"icon_url\":\"https://assets.chucknorris.host/img/avatar/chuck-norris.png\",\"id\":\"X5N6dBUzQ6yHzrB9DojujA\",\"updated_at\":\"2020-01-05 13:42:21.455187\",\"url\":\"https://api.chucknorris.io/jokes/X5N6dBUzQ6yHzrB9DojujA\",\"value\":\"The U.S. Coast Guard has approved recordings of Chuck Norris farts for use on all maritime vessels as the preferred fog horn signal.\"}'"
      ]
     },
     "execution_count": 5,
     "metadata": {},
     "output_type": "execute_result"
    }
   ],
   "source": [
    "data.content"
   ]
  },
  {
   "cell_type": "code",
   "execution_count": 6,
   "id": "32dec032",
   "metadata": {},
   "outputs": [],
   "source": [
    "data=(str)(data.content)"
   ]
  },
  {
   "cell_type": "code",
   "execution_count": 7,
   "id": "1d170385",
   "metadata": {},
   "outputs": [
    {
     "data": {
      "text/plain": [
       "'b\\'{\"categories\":[],\"created_at\":\"2020-01-05 13:42:21.455187\",\"icon_url\":\"https://assets.chucknorris.host/img/avatar/chuck-norris.png\",\"id\":\"X5N6dBUzQ6yHzrB9DojujA\",\"updated_at\":\"2020-01-05 13:42:21.455187\",\"url\":\"https://api.chucknorris.io/jokes/X5N6dBUzQ6yHzrB9DojujA\",\"value\":\"The U.S. Coast Guard has approved recordings of Chuck Norris farts for use on all maritime vessels as the preferred fog horn signal.\"}\\''"
      ]
     },
     "execution_count": 7,
     "metadata": {},
     "output_type": "execute_result"
    }
   ],
   "source": [
    "data"
   ]
  },
  {
   "cell_type": "code",
   "execution_count": 8,
   "id": "dcf028e2",
   "metadata": {},
   "outputs": [],
   "source": [
    "idx=data.find('value')"
   ]
  },
  {
   "cell_type": "code",
   "execution_count": 9,
   "id": "c6e93765",
   "metadata": {},
   "outputs": [
    {
     "name": "stdout",
     "output_type": "stream",
     "text": [
      "The U.S. Coast Guard has approved recordings of Chuck Norris farts for use on all maritime vessels as the preferred fog horn signal.\n"
     ]
    }
   ],
   "source": [
    "print(data[idx+8:-3])"
   ]
  },
  {
   "cell_type": "code",
   "execution_count": 11,
   "id": "fb292f45",
   "metadata": {},
   "outputs": [
    {
     "name": "stdout",
     "output_type": "stream",
     "text": [
      "extracted jokes : 100\r"
     ]
    }
   ],
   "source": [
    "with open ('jokes.csv','w',encoding='utf-8') as f:\n",
    "    f.write('no , jokes \\n')\n",
    "    for i in range(100):\n",
    "        url='https://api.chucknorris.io/jokes/random'\n",
    "        data=requests.get(url)\n",
    "        data=(str)(data.content)\n",
    "        data=data.replace(',' ,' ')\n",
    "        idx=data.find('value')\n",
    "        print(f'extracted jokes : {i+1}',end='\\r')\n",
    "        f.write(f'{i+1},{data[idx+8:-3]}\\n')\n",
    "        "
   ]
  },
  {
   "cell_type": "code",
   "execution_count": null,
   "id": "7e483e99",
   "metadata": {},
   "outputs": [],
   "source": []
  }
 ],
 "metadata": {
  "kernelspec": {
   "display_name": "Python 3 (ipykernel)",
   "language": "python",
   "name": "python3"
  },
  "language_info": {
   "codemirror_mode": {
    "name": "ipython",
    "version": 3
   },
   "file_extension": ".py",
   "mimetype": "text/x-python",
   "name": "python",
   "nbconvert_exporter": "python",
   "pygments_lexer": "ipython3",
   "version": "3.11.5"
  }
 },
 "nbformat": 4,
 "nbformat_minor": 5
}
